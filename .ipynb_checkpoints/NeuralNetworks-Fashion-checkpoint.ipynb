{
 "cells": [
  {
   "cell_type": "markdown",
   "metadata": {},
   "source": [
    "# Import software libraries and load the dataset #"
   ]
  },
  {
   "cell_type": "code",
   "execution_count": null,
   "metadata": {},
   "outputs": [],
   "source": []
  },
  {
   "cell_type": "markdown",
   "metadata": {},
   "source": [
    "# Load the fashion mnist dataset\n",
    "\n",
    "- Dataset provided from keras.\n",
    "- Print the number of training images and testing images.\n",
    "- Print the number of labels (unique)."
   ]
  },
  {
   "cell_type": "code",
   "execution_count": null,
   "metadata": {},
   "outputs": [],
   "source": []
  },
  {
   "cell_type": "markdown",
   "metadata": {},
   "source": [
    "# What is the shape of each image?"
   ]
  },
  {
   "cell_type": "code",
   "execution_count": null,
   "metadata": {},
   "outputs": [],
   "source": []
  },
  {
   "cell_type": "markdown",
   "metadata": {},
   "source": [
    "# The labels are encoded, find the name of each encoded label."
   ]
  },
  {
   "cell_type": "code",
   "execution_count": null,
   "metadata": {},
   "outputs": [],
   "source": []
  },
  {
   "cell_type": "markdown",
   "metadata": {},
   "source": [
    "# Plot 25 samples from the dataset"
   ]
  },
  {
   "cell_type": "code",
   "execution_count": null,
   "metadata": {},
   "outputs": [],
   "source": []
  },
  {
   "cell_type": "markdown",
   "metadata": {},
   "source": [
    "# Prepare the data for training with Keras\n",
    "\n",
    "- Hint : Use reshape method.\n",
    "- Do not forget the one hot encoding process (use the method provided from keras)."
   ]
  },
  {
   "cell_type": "code",
   "execution_count": null,
   "metadata": {},
   "outputs": [],
   "source": []
  },
  {
   "cell_type": "markdown",
   "metadata": {},
   "source": [
    "# Split the datasets into training and testing\n",
    "\n",
    "- Hint : Use the training set (training and validation sets).\n",
    "- Do not worry about the testing set provided from the dataset we will get with later on, do not touch it!!"
   ]
  },
  {
   "cell_type": "code",
   "execution_count": null,
   "metadata": {},
   "outputs": [],
   "source": []
  },
  {
   "cell_type": "markdown",
   "metadata": {},
   "source": [
    "# Build the CNN structure\n",
    "\n",
    "- The model contains the following layers :-\n",
    "\n",
    "    1 - First Conv Layer :-\n",
    "    \n",
    "    2 - Activation Layer\n",
    "    \n",
    "    3 - Pooling Layer\n",
    "    \n",
    "    4 - Second Conv Layer\n",
    "    \n",
    "    5 - Activation Layer\n",
    "    \n",
    "    6 - Pooling Layer\n",
    "    \n",
    "    7 - Third Conv Layer\n",
    "    \n",
    "    8 - Activation Layer\n",
    "    \n",
    "    9 - Pooling Layer\n",
    "    \n",
    "    10 - Flatten Layer\n",
    "    \n",
    "    11 - Dense Layer\n",
    "    \n",
    "    In the Conv layers we have these parameters :-\n",
    "    \n",
    "        a. filters : What is the number of filters of the Conv layer, make it 32 (try to change it if you want).\n",
    "        b. kernel_size : The filter size of the Conv layer, make it 3 by 3 (again try to change it).\n",
    "        c. input_shape : The image shape.\n",
    "        d. padding : make it same.\n",
    "        e. activation : make it linear (also try to change it).\n",
    "    \n",
    "    In the hidden layers, we have three activation layers. Search for the best activation function used in our problem, give\n",
    "    your reasons why did you use it, then use it.\n",
    "    \n",
    "    In the Activation layers we have this parameter :-\n",
    "    \n",
    "        a. alpha : make it 0.1 (try to change it).\n",
    "        \n",
    "    In the Pooling layers we have these parameters :-\n",
    "    \n",
    "        a. pool_size : the pooling window size, make it 2 by 2 (try to change it).\n",
    "        b. padding : make it same.\n",
    "        \n",
    "    In the Flatten layer, make it default, because it is basically convert the tensors into vectors.\n",
    "    \n",
    "    In the Dense layer we have these parameters :-\n",
    "    \n",
    "        a. units : the number of output labels.\n",
    "        b. activation : the function that will deal with the outputs and find the probability for each one.\n",
    "            Note : There are several activation functions as an output function, select the sutable for our problem."
   ]
  },
  {
   "cell_type": "code",
   "execution_count": null,
   "metadata": {},
   "outputs": [],
   "source": []
  },
  {
   "cell_type": "markdown",
   "metadata": {},
   "source": [
    "# Compile the model and examine the layers\n",
    "\n",
    "- Find the best optimizer.\n",
    "- What is the best loss function in this problem? (multi class).\n",
    "- Do not forget the metric!! What is the best metric??"
   ]
  },
  {
   "cell_type": "code",
   "execution_count": null,
   "metadata": {},
   "outputs": [],
   "source": []
  },
  {
   "cell_type": "markdown",
   "metadata": {},
   "source": [
    "# Give me a summary of the NN"
   ]
  },
  {
   "cell_type": "code",
   "execution_count": null,
   "metadata": {},
   "outputs": [],
   "source": []
  },
  {
   "cell_type": "markdown",
   "metadata": {},
   "source": [
    "# Plot the structure of the NN and save it as a png image.\n",
    "\n",
    "- Hint : Use plot_model function from keras.utils"
   ]
  },
  {
   "cell_type": "code",
   "execution_count": null,
   "metadata": {},
   "outputs": [],
   "source": []
  },
  {
   "cell_type": "markdown",
   "metadata": {},
   "source": [
    "# Train the model\n",
    "\n",
    "- The x parameter should receive the training images.\n",
    "- The y parameter should receive the training labels.\n",
    "- The validation_data parameter should receive the validation data (the data we use with train_test_split).\n",
    "- The epochs parameter should receive the number of epochs in the model, you can make it 1 it is ok.\n",
    "    Note : You can increase the epochs, this will decrease the loss, but the loss will stop decreasing in sometimes.\n",
    "- Make the verbose parameter 1."
   ]
  },
  {
   "cell_type": "code",
   "execution_count": null,
   "metadata": {},
   "outputs": [],
   "source": []
  },
  {
   "cell_type": "markdown",
   "metadata": {},
   "source": [
    "# Evaluate the model on the test data\n",
    "\n",
    "- Use evaluate function to find the performance of the model.\n",
    "- The x parameter should receive the testing images (the testing images we get from the dataset).\n",
    "- The y parameter should receive the testing labels.\n",
    "- You need to print the metric you choose before and the loss values."
   ]
  },
  {
   "cell_type": "code",
   "execution_count": null,
   "metadata": {},
   "outputs": [],
   "source": []
  },
  {
   "cell_type": "markdown",
   "metadata": {},
   "source": [
    "# Make predictions on the test data\n",
    "\n",
    "- Just print the first ten predictions and compare them with the actual values."
   ]
  },
  {
   "cell_type": "code",
   "execution_count": null,
   "metadata": {},
   "outputs": [],
   "source": []
  },
  {
   "cell_type": "markdown",
   "metadata": {},
   "source": [
    "# Visualize the predictions for several examples (25 is enough).\n",
    "\n",
    "- For each image, print the image with the actual value and predicted value."
   ]
  },
  {
   "cell_type": "code",
   "execution_count": null,
   "metadata": {},
   "outputs": [],
   "source": []
  },
  {
   "cell_type": "markdown",
   "metadata": {},
   "source": [
    "# Save the model as pickle file"
   ]
  },
  {
   "cell_type": "code",
   "execution_count": null,
   "metadata": {},
   "outputs": [],
   "source": []
  }
 ],
 "metadata": {
  "kernelspec": {
   "display_name": "Python 3 (ipykernel)",
   "language": "python",
   "name": "python3"
  },
  "language_info": {
   "codemirror_mode": {
    "name": "ipython",
    "version": 3
   },
   "file_extension": ".py",
   "mimetype": "text/x-python",
   "name": "python",
   "nbconvert_exporter": "python",
   "pygments_lexer": "ipython3",
   "version": "3.9.12"
  }
 },
 "nbformat": 4,
 "nbformat_minor": 2
}
